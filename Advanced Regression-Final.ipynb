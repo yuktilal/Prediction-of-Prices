{
 "cells": [
  {
   "cell_type": "code",
   "execution_count": 148,
   "id": "d935a871",
   "metadata": {},
   "outputs": [],
   "source": [
    "import warnings\n",
    "warnings.filterwarnings(\"ignore\")\n",
    "import numpy as np\n",
    "import pandas as pd\n",
    "from sklearn.model_selection import train_test_split\n",
    "from sklearn.preprocessing import StandardScaler\n",
    "from sklearn.linear_model import Ridge, Lasso\n",
    "from sklearn.metrics import mean_squared_error\n",
    "from sklearn.model_selection import GridSearchCV\n",
    "from sklearn.feature_selection import SelectFromModel\n",
    "from sklearn.metrics import mean_squared_error, r2_score\n",
    "from sklearn.linear_model import LassoCV\n",
    "from sklearn.linear_model import RidgeCV"
   ]
  },
  {
   "cell_type": "code",
   "execution_count": 91,
   "id": "ffe41aad",
   "metadata": {},
   "outputs": [],
   "source": [
    "data = {\n",
    "    \"Id\": [1, 2, 3, 4, 5, 6, 7, 8, 9, 10, 11, 12, 13, 14, 15, 16, 17, 18, 19, 20, 21, 22, 23, 24, 25, 26, 27, 28, 29, 30],\n",
    "    \"MSSubClass\": [60, 20, 60, 70, 60, 50, 20, 60, 50, 190, 20, 60, 20, 20, 20, 45, 20, 90, 20, 20, 60, 45, 20, 120, 20, 20, 20, 20, 20, 30],\n",
    "    \"MSZoning\": [\"RL\", \"RL\", \"RL\", \"RL\", \"RL\", \"RL\", \"RL\", \"RL\", \"RM\", \"RL\", \"RL\", \"RL\", \"RL\", \"RL\", \"RL\", \"RM\", \"RL\", \"RL\", \"RL\", \"RL\", \"RL\", \"RM\", \"RL\", \"RM\", \"RL\", \"RL\", \"RL\", \"RL\", \"RL\", \"C (all)\"],\n",
    "    \"LotFrontage\": [65, 80, 68, 60, 84, 85, 75, np.nan, 51, 50, 70, 85, np.nan, 91, np.nan, 51, np.nan, 72, 66, 70, 101, 57, 75, 44, np.nan, 110, 60, 98, 47, 60],\n",
    "    \"LotArea\": [8450, 9600, 11250, 9550, 14260, 14115, 10084, 10382, 6120, 7420, 11200, 11924, 12968, 10652, 10920, 6120, 11241, 10791, 13695, 7560, 14215, 7449, 9742, 4224, 8246, 14230, 7200, 11478, 16321, 6324],\n",
    "    \"Street\": [\"Pave\", \"Pave\", \"Pave\", \"Pave\", \"Pave\", \"Pave\", \"Pave\", \"Pave\", \"Pave\", \"Pave\", \"Pave\", \"Pave\", \"Pave\", \"Pave\", \"Pave\", \"Pave\", \"Pave\", \"Pave\", \"Pave\", \"Pave\", \"Pave\", \"Grvl\", \"Pave\", \"Pave\", \"Pave\", \"Pave\", \"Pave\", \"Pave\", \"Pave\", \"Pave\"],\n",
    "    \"Alley\": [\"NA\", \"NA\", \"NA\", \"NA\", \"NA\", \"NA\", \"NA\", \"NA\", \"NA\", \"NA\", \"NA\", \"NA\", \"NA\", \"NA\", \"NA\", \"NA\", \"NA\", \"NA\", \"NA\", \"NA\", \"NA\", \"Grvl\", \"NA\", \"NA\", \"NA\", \"NA\", \"NA\", \"NA\", \"NA\", \"NA\"],\n",
    "    \"LotShape\": [\"Reg\", \"Reg\", \"IR1\", \"IR1\", \"IR1\", \"IR1\", \"Reg\", \"IR1\", \"Reg\", \"Reg\", \"Reg\", \"IR1\", \"IR2\", \"IR1\", \"IR1\", \"Reg\", \"IR1\", \"Reg\", \"Reg\", \"Reg\", \"IR1\", \"Reg\", \"Reg\", \"Reg\", \"IR1\", \"Reg\", \"Reg\", \"Reg\", \"Reg\", \"IR1\"],\n",
    "    \"LandContour\": [\"Lvl\", \"Lvl\", \"Lvl\", \"Lvl\", \"Lvl\", \"Lvl\", \"Lvl\", \"Lvl\", \"Lvl\", \"Lvl\", \"Lvl\", \"Lvl\", \"Lvl\", \"Lvl\", \"Lvl\", \"Lvl\", \"Lvl\", \"Lvl\", \"Lvl\", \"Lvl\", \"Lvl\", \"Bnk\", \"Lvl\", \"Lvl\", \"Lvl\", \"Lvl\", \"Lvl\", \"Lvl\", \"Lvl\", \"Lvl\"],\n",
    "    \"Utilities\": [\"AllPub\",\"AllPub\", \"AllPub\", \"AllPub\",\"AllPub\", \"AllPub\", \"AllPub\", \"AllPub\", \"AllPub\", \"AllPub\", \"AllPub\", \"AllPub\", \"AllPub\", \"AllPub\", \"AllPub\", \"AllPub\", \"AllPub\", \"AllPub\", \"AllPub\", \"AllPub\", \"AllPub\", \"AllPub\", \"AllPub\", \"AllPub\", \"AllPub\",\"AllPub\",\"AllPub\",\"AllPub\",\"AllPub\",\"AllPub\"],\n",
    "    \"LotConfig\": [\"Inside\", \"FR2\", \"Inside\", \"Corner\", \"FR2\", \"Inside\", \"Inside\", \"Corner\", \"Inside\", \"Corner\", \"Inside\", \"Inside\", \"Inside\", \"Corner\", \"Corner\", \"Corner\", \"CulDSac\", \"Inside\", \"Inside\", \"Inside\", \"Corner\", \"Inside\", \"Inside\", \"Inside\", \"Inside\", \"Corner\", \"Inside\", \"Inside\", \"CulDSac\", \"Inside\"],\n",
    "    \"LandSlope\": [\"Gtl\", \"Gtl\", \"Gtl\", \"Gtl\", \"Gtl\", \"Gtl\", \"Gtl\", \"Gtl\", \"Gtl\", \"Gtl\", \"Gtl\", \"Gtl\", \"Gtl\", \"Gtl\", \"Gtl\", \"Gtl\", \"Gtl\", \"Gtl\", \"Gtl\", \"Gtl\", \"Gtl\", \"Gtl\", \"Gtl\", \"Gtl\", \"Gtl\", \"Gtl\", \"Gtl\", \"Gtl\", \"Gtl\", \"Gtl\"],\n",
    "    \"Neighborhood\": [\"CollgCr\", \"Veenker\", \"CollgCr\", \"Crawfor\", \"NoRidge\", \"Mitchel\", \"Somerst\", \"NWAmes\", \"OldTown\", \"BrkSide\", \"Sawyer\", \"NridgHt\", \"Sawyer\", \"CollgCr\", \"NAmes\", \"BrkSide\", \"NAmes\", \"Sawyer\", \"SawyerW\", \"NAmes\", \"NridgHt\", \"IDOTRR\", \"CollgCr\", \"MeadowV\", \"Sawyer\", \"NridgHt\", \"NAmes\", \"NridgHt\", \"NAmes\", \"BrkSide\"],\n",
    "    \"Condition1\": [\"Norm\", \"Feedr\", \"Norm\", \"Norm\", \"Norm\", \"Norm\", \"Norm\", \"PosN\", \"Artery\", \"Artery\", \"Norm\", \"Norm\", \"Norm\", \"Norm\", \"Norm\", \"Norm\", \"Norm\", \"Norm\", \"RRAe\", \"Norm\", \"Norm\", \"Norm\", \"Norm\", \"Norm\", \"Norm\", \"Norm\", \"Norm\", \"Norm\", \"Norm\", \"Feedr\"],\n",
    "    \"Condition2\": [\"Norm\", \"Norm\", \"Norm\", \"Norm\", \"Norm\", \"Norm\", \"Norm\", \"Norm\", \"Norm\", \"Norm\", \"Norm\", \"Norm\", \"Norm\", \"Norm\", \"Norm\", \"Norm\", \"Norm\", \"Norm\", \"Norm\", \"Norm\", \"Norm\", \"Norm\", \"Norm\", \"Norm\", \"Norm\", \"Norm\", \"Norm\", \"Norm\", \"Norm\", \"Norm\"],\n",
    "    \"BldgType\": [\"1Fam\", \"1Fam\", \"1Fam\", \"1Fam\", \"1Fam\", \"1Fam\", \"1Fam\", \"1Fam\", \"1Fam\", \"2fmCon\", \"1Fam\", \"1Fam\", \"1Fam\", \"1Fam\", \"1Fam\", \"1Fam\", \"1Fam\", \"2fmCon\", \"1Fam\", \"1Fam\", \"1Fam\", \"1Fam\", \"1Fam\", \"1Fam\", \"1Fam\", \"1Fam\", \"1Fam\", \"1Fam\", \"1Fam\", \"1Fam\"],\n",
    "    \"HouseStyle\": [\"2Story\", \"1Story\", \"2Story\", \"2Story\", \"2Story\", \"1.5Fin\", \"1Story\", \"2Story\", \"1.5Fin\", \"1.5Unf\", \"1Story\", \"2Story\", \"1Story\", \"1Story\", \"1Story\", \"1.5Unf\", \"1Story\", \"1Story\", \"1Story\",\"1Story\", \"2Story\", \"1.5Unf\", \"1Story\", \"1Story\", \"1Story\", \"1Story\", \"1Story\", \"1Story\", \"1Story\", \"1Story\"],\n",
    "    \"SalePrice\": [208500, 181500, 223500, 140000, 250000, 143000, 307000, 200000, 129900, 118000, 129500, 345000, 144000, 279500, 157000, 132000, 149000, 90000, 159000, 139000, 325300, 139400, 230000, 129900, 154000, 256300, 134800, 306000, 207500, 68500]\n",
    "}\n",
    "\n"
   ]
  },
  {
   "cell_type": "code",
   "execution_count": 93,
   "id": "69c487d5",
   "metadata": {},
   "outputs": [
    {
     "name": "stdout",
     "output_type": "stream",
     "text": [
      "30\n"
     ]
    }
   ],
   "source": [
    "\n",
    "print(len(data[\"SalePrice\"])) "
   ]
  },
  {
   "cell_type": "code",
   "execution_count": 98,
   "id": "db22bccc",
   "metadata": {},
   "outputs": [],
   "source": [
    "\n",
    "df = pd.DataFrame(data)"
   ]
  },
  {
   "cell_type": "code",
   "execution_count": 102,
   "id": "9bd21b37",
   "metadata": {},
   "outputs": [],
   "source": [
    "# Handle missing values\n",
    "df['LotFrontage'].fillna(df['LotFrontage'].mean(), inplace=True)  # Example: Filling LotFrontage with mean"
   ]
  },
  {
   "cell_type": "code",
   "execution_count": 103,
   "id": "28f96ccb",
   "metadata": {},
   "outputs": [
    {
     "name": "stdout",
     "output_type": "stream",
     "text": [
      "Index(['Id', 'MSSubClass', 'LotFrontage', 'LotArea', 'SalePrice',\n",
      "       'MSZoning_C (all)', 'MSZoning_RL', 'MSZoning_RM', 'Street_Grvl',\n",
      "       'Street_Pave', 'Alley_Grvl', 'Alley_NA', 'LotShape_IR1', 'LotShape_IR2',\n",
      "       'LotShape_Reg', 'LandContour_Bnk', 'LandContour_Lvl',\n",
      "       'Utilities_AllPub', 'LotConfig_Corner', 'LotConfig_CulDSac',\n",
      "       'LotConfig_FR2', 'LotConfig_Inside', 'LandSlope_Gtl',\n",
      "       'Neighborhood_BrkSide', 'Neighborhood_CollgCr', 'Neighborhood_Crawfor',\n",
      "       'Neighborhood_IDOTRR', 'Neighborhood_MeadowV', 'Neighborhood_Mitchel',\n",
      "       'Neighborhood_NAmes', 'Neighborhood_NWAmes', 'Neighborhood_NoRidge',\n",
      "       'Neighborhood_NridgHt', 'Neighborhood_OldTown', 'Neighborhood_Sawyer',\n",
      "       'Neighborhood_SawyerW', 'Neighborhood_Somerst', 'Neighborhood_Veenker',\n",
      "       'Condition1_Artery', 'Condition1_Feedr', 'Condition1_Norm',\n",
      "       'Condition1_PosN', 'Condition1_RRAe', 'Condition2_Norm',\n",
      "       'BldgType_1Fam', 'BldgType_2fmCon', 'HouseStyle_1.5Fin',\n",
      "       'HouseStyle_1.5Unf', 'HouseStyle_1Story', 'HouseStyle_2Story'],\n",
      "      dtype='object')\n"
     ]
    }
   ],
   "source": [
    "print(df.columns)\n"
   ]
  },
  {
   "cell_type": "code",
   "execution_count": 104,
   "id": "5245ab2d",
   "metadata": {},
   "outputs": [],
   "source": [
    "# Split the data into features (X) and target variable (y)\n",
    "X = df.drop('SalePrice', axis=1)\n",
    "y = df['SalePrice']"
   ]
  },
  {
   "cell_type": "code",
   "execution_count": 105,
   "id": "597d29b3",
   "metadata": {},
   "outputs": [],
   "source": [
    "# Feature scaling\n",
    "scaler = StandardScaler()\n",
    "X_scaled = scaler.fit_transform(X)"
   ]
  },
  {
   "cell_type": "code",
   "execution_count": 108,
   "id": "2c185b5b",
   "metadata": {},
   "outputs": [],
   "source": [
    "# Feature selection using Ridge regression\n",
    "ridge = Ridge()\n",
    "ridge_selector = SelectFromModel(ridge, max_features=30)\n",
    "selected_features = ridge_selector.fit_transform(X_scaled, y)"
   ]
  },
  {
   "cell_type": "code",
   "execution_count": 109,
   "id": "82d66d92",
   "metadata": {},
   "outputs": [],
   "source": [
    "# Find the optimal alpha for Ridge regression using GridSearchCV\n",
    "alphas = {'alpha': [0.001, 0.01, 0.1, 1, 10, 100, 1000]}\n",
    "ridge_grid = GridSearchCV(ridge, alphas, cv=5)\n",
    "ridge_grid.fit(selected_features, y)\n",
    "best_alpha_ridge = ridge_grid.best_params_['alpha']"
   ]
  },
  {
   "cell_type": "code",
   "execution_count": 110,
   "id": "cd3050c2",
   "metadata": {},
   "outputs": [],
   "source": [
    "# Split the data into training and testing sets\n",
    "X_train, X_test, y_train, y_test = train_test_split(selected_features, y, test_size=0.2, random_state=42)"
   ]
  },
  {
   "cell_type": "code",
   "execution_count": 114,
   "id": "0143757b",
   "metadata": {},
   "outputs": [],
   "source": [
    "# Define the alpha values to be tested\n",
    "alphas = {'alpha': [0.001, 0.01, 0.1, 1, 10, 100, 1000]}"
   ]
  },
  {
   "cell_type": "code",
   "execution_count": 115,
   "id": "7a1de0b0",
   "metadata": {},
   "outputs": [],
   "source": [
    "# Instantiate Ridge regression model\n",
    "ridge = Ridge()"
   ]
  },
  {
   "cell_type": "code",
   "execution_count": 116,
   "id": "e153c908",
   "metadata": {},
   "outputs": [
    {
     "data": {
      "text/plain": [
       "GridSearchCV(cv=5, estimator=Ridge(),\n",
       "             param_grid={'alpha': [0.001, 0.01, 0.1, 1, 10, 100, 1000]})"
      ]
     },
     "execution_count": 116,
     "metadata": {},
     "output_type": "execute_result"
    }
   ],
   "source": [
    "# Perform GridSearchCV to find the optimal alpha\n",
    "ridge_grid = GridSearchCV(ridge, alphas, cv=5)\n",
    "ridge_grid.fit(selected_features, y)"
   ]
  },
  {
   "cell_type": "code",
   "execution_count": 143,
   "id": "2c130d25",
   "metadata": {},
   "outputs": [],
   "source": [
    "# Get the best alpha value\n",
    "best_alpha_ridge = ridge_grid.best_params_['alpha']"
   ]
  },
  {
   "cell_type": "code",
   "execution_count": 119,
   "id": "c0bc1821",
   "metadata": {},
   "outputs": [],
   "source": [
    "# Instantiate Lasso regression model\n",
    "lasso = Lasso()"
   ]
  },
  {
   "cell_type": "code",
   "execution_count": 140,
   "id": "2d97213f",
   "metadata": {},
   "outputs": [
    {
     "data": {
      "text/plain": [
       "GridSearchCV(cv=5, estimator=Lasso(alpha=1000),\n",
       "             param_grid={'alpha': [0.001, 0.01, 0.1, 1, 10, 100, 1000]})"
      ]
     },
     "execution_count": 140,
     "metadata": {},
     "output_type": "execute_result"
    }
   ],
   "source": [
    "# Perform GridSearchCV to find the optimal alpha\n",
    "lasso_grid = GridSearchCV(lasso, alphas, cv=5)\n",
    "lasso_grid.fit(selected_features, y)"
   ]
  },
  {
   "cell_type": "code",
   "execution_count": 122,
   "id": "ddd96e42",
   "metadata": {},
   "outputs": [],
   "source": [
    "# Get the best alpha value\n",
    "best_alpha_lasso = lasso_grid.best_params_['alpha']"
   ]
  },
  {
   "cell_type": "code",
   "execution_count": 123,
   "id": "64592319",
   "metadata": {},
   "outputs": [],
   "source": [
    "# Instantiate Ridge or Lasso with the best alpha\n",
    "ridge = Ridge(alpha=best_alpha_ridge)\n",
    "lasso = Lasso(alpha=best_alpha_lasso)\n"
   ]
  },
  {
   "cell_type": "code",
   "execution_count": 124,
   "id": "a27cbdd2",
   "metadata": {},
   "outputs": [
    {
     "data": {
      "text/plain": [
       "Lasso(alpha=1000)"
      ]
     },
     "execution_count": 124,
     "metadata": {},
     "output_type": "execute_result"
    }
   ],
   "source": [
    "# Fit the models\n",
    "ridge.fit(X_train, y_train)\n",
    "lasso.fit(X_train, y_train)"
   ]
  },
  {
   "cell_type": "code",
   "execution_count": 125,
   "id": "e2108fcc",
   "metadata": {},
   "outputs": [],
   "source": [
    "# Make predictions\n",
    "ridge_predictions = ridge.predict(X_test)\n",
    "lasso_predictions = lasso.predict(X_test)"
   ]
  },
  {
   "cell_type": "code",
   "execution_count": 130,
   "id": "33b5b974",
   "metadata": {},
   "outputs": [],
   "source": [
    "# Calculate metrics\n",
    "ridge_mse = mean_squared_error(y_test, ridge_predictions)\n",
    "ridge_r2 = r2_score(y_test, ridge_predictions)\n",
    "lasso_mse = mean_squared_error(y_test, lasso_predictions)\n",
    "lasso_r2 = r2_score(y_test, lasso_predictions)"
   ]
  },
  {
   "cell_type": "code",
   "execution_count": 131,
   "id": "a3e01bf2",
   "metadata": {},
   "outputs": [
    {
     "name": "stdout",
     "output_type": "stream",
     "text": [
      "Ridge Regression MSE:  1536470368.8669255\n",
      "Ridge Regression R-squared:  0.6935885274504343\n",
      "Lasso Regression MSE:  746488279.100799\n"
     ]
    }
   ],
   "source": [
    "\n",
    "print(\"Ridge Regression MSE: \", ridge_mse)\n",
    "print(\"Ridge Regression R-squared: \", ridge_r2)\n",
    "print(\"Lasso Regression MSE: \", lasso_mse)"
   ]
  },
  {
   "cell_type": "code",
   "execution_count": 153,
   "id": "a1eb8b3d",
   "metadata": {},
   "outputs": [
    {
     "data": {
      "text/plain": [
       "Ridge(alpha=20)"
      ]
     },
     "execution_count": 153,
     "metadata": {},
     "output_type": "execute_result"
    }
   ],
   "source": [
    "# Build Ridge regression model with doubled alpha\n",
    "ridge_double_alpha = Ridge(alpha=2 * best_alpha_ridge)\n",
    "ridge_double_alpha.fit(X_train, y_train)\n"
   ]
  },
  {
   "cell_type": "code",
   "execution_count": 138,
   "id": "d5e2fe43",
   "metadata": {},
   "outputs": [
    {
     "data": {
      "text/plain": [
       "Lasso(alpha=2000)"
      ]
     },
     "execution_count": 138,
     "metadata": {},
     "output_type": "execute_result"
    }
   ],
   "source": [
    "# Build Lasso regression model with doubled alpha\n",
    "lasso_double_alpha = Lasso(alpha=2 * best_alpha_lasso)\n",
    "lasso_double_alpha.fit(X_train ,y_train)\n"
   ]
  },
  {
   "cell_type": "code",
   "execution_count": 146,
   "id": "5a3d89ec",
   "metadata": {},
   "outputs": [
    {
     "data": {
      "text/plain": [
       "LassoCV(alphas=[0.001, 0.01, 0.1, 1, 10, 100], cv=5)"
      ]
     },
     "execution_count": 146,
     "metadata": {},
     "output_type": "execute_result"
    }
   ],
   "source": [
    "# Perform Lasso regression with cross-validation to find the optimal alpha (lambda)\n",
    "lasso = LassoCV(alphas=[0.001, 0.01, 0.1, 1, 10, 100], cv=5)\n",
    "lasso.fit(X_scaled, y)\n"
   ]
  },
  {
   "cell_type": "code",
   "execution_count": 147,
   "id": "6596d951",
   "metadata": {},
   "outputs": [
    {
     "name": "stdout",
     "output_type": "stream",
     "text": [
      "Optimal Alpha (Lambda) for Lasso Regression: 100.0\n"
     ]
    }
   ],
   "source": [
    "# Get the optimal alpha\n",
    "optimal_alpha = lasso.alpha_\n",
    "print(\"Optimal Alpha (Lambda) for Lasso Regression:\", optimal_alpha)\n"
   ]
  },
  {
   "cell_type": "code",
   "execution_count": 154,
   "id": "00d65580",
   "metadata": {},
   "outputs": [
    {
     "data": {
      "text/plain": [
       "Lasso(alpha=100.0)"
      ]
     },
     "execution_count": 154,
     "metadata": {},
     "output_type": "execute_result"
    }
   ],
   "source": [
    "# Fit Lasso regression with the optimal alpha to get the coefficients\n",
    "lasso_final = Lasso(alpha=optimal_alpha)\n",
    "lasso_final.fit(X_scaled, y)"
   ]
  },
  {
   "cell_type": "code",
   "execution_count": 156,
   "id": "e50ec445",
   "metadata": {},
   "outputs": [],
   "source": [
    "# Extract the coefficients and map them to the corresponding feature names\n",
    "coefficients = pd.DataFrame({\n",
    "    'Feature': X.columns,\n",
    "    'Coefficient': lasso_final.coef_\n",
    "    })"
   ]
  },
  {
   "cell_type": "code",
   "execution_count": 157,
   "id": "820912df",
   "metadata": {},
   "outputs": [
    {
     "name": "stdout",
     "output_type": "stream",
     "text": [
      "Top 5 Most Important Predictor Variables in Lasso Regression:\n",
      "                 Feature   Coefficient\n",
      "31  Neighborhood_NridgHt  65304.675594\n",
      "35  Neighborhood_Somerst  31202.037354\n",
      "23  Neighborhood_CollgCr  30761.287583\n",
      "19         LotConfig_FR2  15021.516843\n",
      "5            MSZoning_RL  12827.265826\n"
     ]
    }
   ],
   "source": [
    "# Get the top 5 most important predictor variables (non-zero coefficients)\n",
    "top_5_predictors = coefficients[coefficients['Coefficient'] != 0].nlargest(5, 'Coefficient')\n",
    "print(\"Top 5 Most Important Predictor Variables in Lasso Regression:\")\n",
    "print(top_5_predictors)"
   ]
  },
  {
   "cell_type": "code",
   "execution_count": 149,
   "id": "dfdfae7b",
   "metadata": {},
   "outputs": [
    {
     "data": {
      "text/plain": [
       "RidgeCV(alphas=array([1.e-03, 1.e-02, 1.e-01, 1.e+00, 1.e+01, 1.e+02]), cv=5)"
      ]
     },
     "execution_count": 149,
     "metadata": {},
     "output_type": "execute_result"
    }
   ],
   "source": [
    "# Perform Ridge regression with cross-validation to find the optimal alpha (lambda)\n",
    "alphas = [0.001, 0.01, 0.1, 1, 10, 100]  # List of alpha values to test\n",
    "ridge = RidgeCV(alphas=alphas, cv=5)\n",
    "ridge.fit(X_scaled, y)"
   ]
  },
  {
   "cell_type": "code",
   "execution_count": 151,
   "id": "c3a85801",
   "metadata": {},
   "outputs": [
    {
     "name": "stdout",
     "output_type": "stream",
     "text": [
      "Optimal Alpha (Lambda) for Ridge Regression: 100.0\n"
     ]
    }
   ],
   "source": [
    "# Get the optimal alpha\n",
    "optimal_alpha = ridge.alpha_\n",
    "print(\"Optimal Alpha (Lambda) for Ridge Regression:\", optimal_alpha)\n",
    "\n",
    "\n",
    "\n",
    "\n"
   ]
  }
 ],
 "metadata": {
  "kernelspec": {
   "display_name": "Python 3 (ipykernel)",
   "language": "python",
   "name": "python3"
  },
  "language_info": {
   "codemirror_mode": {
    "name": "ipython",
    "version": 3
   },
   "file_extension": ".py",
   "mimetype": "text/x-python",
   "name": "python",
   "nbconvert_exporter": "python",
   "pygments_lexer": "ipython3",
   "version": "3.9.13"
  }
 },
 "nbformat": 4,
 "nbformat_minor": 5
}
